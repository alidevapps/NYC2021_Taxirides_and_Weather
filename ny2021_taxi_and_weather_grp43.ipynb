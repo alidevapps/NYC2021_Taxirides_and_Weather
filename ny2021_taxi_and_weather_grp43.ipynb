{
 "cells": [
  {
   "cell_type": "markdown",
   "id": "aff5d2f3",
   "metadata": {},
   "source": [
    "# Report for data wrangling"
   ]
  },
  {
   "cell_type": "markdown",
   "id": "719d8f17",
   "metadata": {},
   "source": [
    "7 february 2023\\\n",
    "Ali Benchemsi\\\n",
    "Gerard van Konijnenburg"
   ]
  },
  {
   "cell_type": "markdown",
   "id": "8615f367",
   "metadata": {},
   "source": [
    "# Libraries and options"
   ]
  },
  {
   "cell_type": "code",
   "execution_count": 2,
   "id": "ed05c982",
   "metadata": {},
   "outputs": [],
   "source": [
    "import numpy as np\n",
    "import pandas as pd\n",
    "from sodapy import Socrata\n",
    "from configparser import ConfigParser\n",
    "pd.options.display.max_rows = 20\n",
    "np.set_printoptions(precision = 4, suppress = True)"
   ]
  },
  {
   "cell_type": "markdown",
   "id": "0b044e98",
   "metadata": {},
   "source": [
    "# Data loading & wrangling"
   ]
  },
  {
   "cell_type": "markdown",
   "id": "4eebed3a",
   "metadata": {},
   "source": [
    "Idee Gerard zaterdag 21-1\n",
    "\n",
    "We hebben een heleboel data van taxiritten per rit, maar weerdata per dag voor ruim 100 weerstations. Ik stel voor om taxiritten te aggregeren tot 1 record per dag, zone van vertrek en zone van aankomst. Dit kunnen we dan tegen weerdata aanhouden en kijken of er een relatie in zit.\n",
    "\n",
    "De weerdata heeft veel gegevens over het weer, dus daar moeten we ook wat zinnigs over vinden. Ik ben al met de taxiritten aan het stoeien, wil jij je eerst richten op de weerdata?"
   ]
  },
  {
   "cell_type": "markdown",
   "id": "c2478cef",
   "metadata": {},
   "source": [
    "## Yellow cab data"
   ]
  },
  {
   "cell_type": "code",
   "execution_count": 3,
   "id": "6f6f5090",
   "metadata": {},
   "outputs": [],
   "source": [
    "#Read app token from config file\n",
    "parser = ConfigParser()\n",
    "parser.read('configuration.txt')\n",
    "app_token = parser.get('ny_opendata', 'app_token')"
   ]
  },
  {
   "cell_type": "code",
   "execution_count": 15,
   "id": "87cf2bd9",
   "metadata": {},
   "outputs": [],
   "source": [
    "#Load taxirides data\n",
    "\n",
    "#Te implementeren\n",
    "#Via de SQL call\n",
    "#Transform the pickup timestamp to pickup date \n",
    "#Group by pickup date, pickup location, destination location\n",
    "#Select count(rides), avg(passenger), avg(distance), avg(passenger * distance) plus grouping variables\n",
    "\n",
    "#Voorbeelden\n",
    "#https://github.com/xmunoz/sodapy/tree/master/examples\n",
    "#https://github.com/xmunoz/sodapy/blob/master/examples/soql_queries.ipynb\n",
    "\n",
    "#Implementatie\n",
    "client = Socrata(\"data.cityofnewyork.us\", app_token)\n",
    "dataset = \"m6nq-qud6\" #2021 Yellow Taxi Trip Data\n",
    "\n",
    "result = client.get(dataset, limit = 100)\n",
    "df_taxirides = pd.DataFrame(result)\n",
    "#results = client.get(dataset, \n",
    "#    group = \"pulocationid\",\n",
    "#    select = \"sum(passenger_count), sum(passenger_count * trip_distance)\",                \n",
    "#    limit=100)"
   ]
  },
  {
   "cell_type": "code",
   "execution_count": 16,
   "id": "fbab1602",
   "metadata": {},
   "outputs": [
    {
     "data": {
      "text/html": [
       "<div>\n",
       "<style scoped>\n",
       "    .dataframe tbody tr th:only-of-type {\n",
       "        vertical-align: middle;\n",
       "    }\n",
       "\n",
       "    .dataframe tbody tr th {\n",
       "        vertical-align: top;\n",
       "    }\n",
       "\n",
       "    .dataframe thead th {\n",
       "        text-align: right;\n",
       "    }\n",
       "</style>\n",
       "<table border=\"1\" class=\"dataframe\">\n",
       "  <thead>\n",
       "    <tr style=\"text-align: right;\">\n",
       "      <th></th>\n",
       "      <th>vendorid</th>\n",
       "      <th>tpep_pickup_datetime</th>\n",
       "      <th>tpep_dropoff_datetime</th>\n",
       "      <th>passenger_count</th>\n",
       "      <th>trip_distance</th>\n",
       "      <th>ratecodeid</th>\n",
       "      <th>store_and_fwd_flag</th>\n",
       "      <th>pulocationid</th>\n",
       "      <th>dolocationid</th>\n",
       "      <th>payment_type</th>\n",
       "      <th>fare_amount</th>\n",
       "      <th>extra</th>\n",
       "      <th>mta_tax</th>\n",
       "      <th>tip_amount</th>\n",
       "      <th>tolls_amount</th>\n",
       "      <th>improvement_surcharge</th>\n",
       "      <th>total_amount</th>\n",
       "      <th>congestion_surcharge</th>\n",
       "    </tr>\n",
       "  </thead>\n",
       "  <tbody>\n",
       "    <tr>\n",
       "      <th>0</th>\n",
       "      <td>1</td>\n",
       "      <td>2021-01-01T00:30:10.000</td>\n",
       "      <td>2021-01-01T00:36:12.000</td>\n",
       "      <td>1</td>\n",
       "      <td>2.10</td>\n",
       "      <td>1</td>\n",
       "      <td>N</td>\n",
       "      <td>142</td>\n",
       "      <td>43</td>\n",
       "      <td>2</td>\n",
       "      <td>8</td>\n",
       "      <td>3</td>\n",
       "      <td>0.5</td>\n",
       "      <td>0</td>\n",
       "      <td>0</td>\n",
       "      <td>0.3</td>\n",
       "      <td>11.8</td>\n",
       "      <td>2.5</td>\n",
       "    </tr>\n",
       "    <tr>\n",
       "      <th>1</th>\n",
       "      <td>1</td>\n",
       "      <td>2021-01-01T00:51:20.000</td>\n",
       "      <td>2021-01-01T00:52:19.000</td>\n",
       "      <td>1</td>\n",
       "      <td>0.20</td>\n",
       "      <td>1</td>\n",
       "      <td>N</td>\n",
       "      <td>238</td>\n",
       "      <td>151</td>\n",
       "      <td>2</td>\n",
       "      <td>3</td>\n",
       "      <td>0.5</td>\n",
       "      <td>0.5</td>\n",
       "      <td>0</td>\n",
       "      <td>0</td>\n",
       "      <td>0.3</td>\n",
       "      <td>4.3</td>\n",
       "      <td>0</td>\n",
       "    </tr>\n",
       "    <tr>\n",
       "      <th>2</th>\n",
       "      <td>1</td>\n",
       "      <td>2021-01-01T00:43:30.000</td>\n",
       "      <td>2021-01-01T01:11:06.000</td>\n",
       "      <td>1</td>\n",
       "      <td>14.70</td>\n",
       "      <td>1</td>\n",
       "      <td>N</td>\n",
       "      <td>132</td>\n",
       "      <td>165</td>\n",
       "      <td>1</td>\n",
       "      <td>42</td>\n",
       "      <td>0.5</td>\n",
       "      <td>0.5</td>\n",
       "      <td>8.65</td>\n",
       "      <td>0</td>\n",
       "      <td>0.3</td>\n",
       "      <td>51.95</td>\n",
       "      <td>0</td>\n",
       "    </tr>\n",
       "    <tr>\n",
       "      <th>3</th>\n",
       "      <td>1</td>\n",
       "      <td>2021-01-01T00:15:48.000</td>\n",
       "      <td>2021-01-01T00:31:01.000</td>\n",
       "      <td>0</td>\n",
       "      <td>10.60</td>\n",
       "      <td>1</td>\n",
       "      <td>N</td>\n",
       "      <td>138</td>\n",
       "      <td>132</td>\n",
       "      <td>1</td>\n",
       "      <td>29</td>\n",
       "      <td>0.5</td>\n",
       "      <td>0.5</td>\n",
       "      <td>6.05</td>\n",
       "      <td>0</td>\n",
       "      <td>0.3</td>\n",
       "      <td>36.35</td>\n",
       "      <td>0</td>\n",
       "    </tr>\n",
       "    <tr>\n",
       "      <th>4</th>\n",
       "      <td>2</td>\n",
       "      <td>2021-01-01T00:31:49.000</td>\n",
       "      <td>2021-01-01T00:48:21.000</td>\n",
       "      <td>1</td>\n",
       "      <td>4.94</td>\n",
       "      <td>1</td>\n",
       "      <td>N</td>\n",
       "      <td>68</td>\n",
       "      <td>33</td>\n",
       "      <td>1</td>\n",
       "      <td>16.5</td>\n",
       "      <td>0.5</td>\n",
       "      <td>0.5</td>\n",
       "      <td>4.06</td>\n",
       "      <td>0</td>\n",
       "      <td>0.3</td>\n",
       "      <td>24.36</td>\n",
       "      <td>2.5</td>\n",
       "    </tr>\n",
       "  </tbody>\n",
       "</table>\n",
       "</div>"
      ],
      "text/plain": [
       "  vendorid     tpep_pickup_datetime    tpep_dropoff_datetime passenger_count  \\\n",
       "0        1  2021-01-01T00:30:10.000  2021-01-01T00:36:12.000               1   \n",
       "1        1  2021-01-01T00:51:20.000  2021-01-01T00:52:19.000               1   \n",
       "2        1  2021-01-01T00:43:30.000  2021-01-01T01:11:06.000               1   \n",
       "3        1  2021-01-01T00:15:48.000  2021-01-01T00:31:01.000               0   \n",
       "4        2  2021-01-01T00:31:49.000  2021-01-01T00:48:21.000               1   \n",
       "\n",
       "  trip_distance ratecodeid store_and_fwd_flag pulocationid dolocationid  \\\n",
       "0          2.10          1                  N          142           43   \n",
       "1          0.20          1                  N          238          151   \n",
       "2         14.70          1                  N          132          165   \n",
       "3         10.60          1                  N          138          132   \n",
       "4          4.94          1                  N           68           33   \n",
       "\n",
       "  payment_type fare_amount extra mta_tax tip_amount tolls_amount  \\\n",
       "0            2           8     3     0.5          0            0   \n",
       "1            2           3   0.5     0.5          0            0   \n",
       "2            1          42   0.5     0.5       8.65            0   \n",
       "3            1          29   0.5     0.5       6.05            0   \n",
       "4            1        16.5   0.5     0.5       4.06            0   \n",
       "\n",
       "  improvement_surcharge total_amount congestion_surcharge  \n",
       "0                   0.3         11.8                  2.5  \n",
       "1                   0.3          4.3                    0  \n",
       "2                   0.3        51.95                    0  \n",
       "3                   0.3        36.35                    0  \n",
       "4                   0.3        24.36                  2.5  "
      ]
     },
     "execution_count": 16,
     "metadata": {},
     "output_type": "execute_result"
    }
   ],
   "source": [
    "# Taxirides debug, to be removed later\n",
    "df_taxirides.head()\n",
    "#type(test[1])"
   ]
  },
  {
   "cell_type": "code",
   "execution_count": 6,
   "id": "cc8fb67a",
   "metadata": {},
   "outputs": [],
   "source": [
    "#Taxirides data wrangling\n",
    "\n",
    "#Te implementeren\n",
    "#colommen naar juiste datatype, alles staat in string"
   ]
  },
  {
   "cell_type": "markdown",
   "id": "c718ef2e",
   "metadata": {},
   "source": [
    "## Taxi zones"
   ]
  },
  {
   "cell_type": "code",
   "execution_count": 7,
   "id": "7f4b5d9d",
   "metadata": {},
   "outputs": [],
   "source": [
    "#Load taxizone data\n",
    "\n",
    "#Te implementeren\n",
    "#bron: https://data.cityofnewyork.us/Transportation/NYC-Taxi-Zones/d3c5-ddgc\n",
    "#download data in een geschikt formaat voor data wrangling hieronder\n",
    "#uitzoeken of er iets is met longitude, latitude data er al in\n",
    "#data lezen"
   ]
  },
  {
   "cell_type": "code",
   "execution_count": 8,
   "id": "c1acbf9a",
   "metadata": {},
   "outputs": [],
   "source": [
    "#Taxizone data wrangling\n",
    "\n",
    "#Te implementeren\n",
    "#bereken latitude and longitude voor elke zone zodat we in een volgende stap afstand tot de weerstations kunnen bepalen"
   ]
  },
  {
   "cell_type": "markdown",
   "id": "fb6b00e7",
   "metadata": {},
   "source": [
    "## Weather data"
   ]
  },
  {
   "cell_type": "code",
   "execution_count": 4,
   "id": "098dbab9",
   "metadata": {},
   "outputs": [
    {
     "name": "stderr",
     "output_type": "stream",
     "text": [
      "C:\\ProgramData\\Anaconda3\\lib\\site-packages\\IPython\\core\\interactiveshell.py:3444: DtypeWarning: Columns (29,55) have mixed types.Specify dtype option on import or set low_memory=False.\n",
      "  exec(code_obj, self.user_global_ns, self.user_ns)\n"
     ]
    }
   ],
   "source": [
    "#Load weather data\n",
    "\n",
    "#Te implementeren\n",
    "#lees weerdata (zie in overleaf map 'data')\n",
    "#implementatie geeft nu een waarschuwing voor mixed datatupe in colom 29 en 55, uitzoeken hoe dit te ondervangen\n",
    "\n",
    "#Implemenatie\n",
    "df_weather = pd.read_csv('data\\weatherdata.csv')"
   ]
  },
  {
   "cell_type": "code",
   "execution_count": 5,
   "id": "e568ed61",
   "metadata": {},
   "outputs": [],
   "source": [
    "#Weather data wrangling\n",
    "\n",
    "#Te implementeren\n",
    "#geen idee, nog niet naar gekeken"
   ]
  },
  {
   "cell_type": "code",
   "execution_count": null,
   "id": "782cfeb3",
   "metadata": {},
   "outputs": [],
   "source": []
  }
 ],
 "metadata": {
  "kernelspec": {
   "display_name": "Python 3 (ipykernel)",
   "language": "python",
   "name": "python3"
  },
  "language_info": {
   "codemirror_mode": {
    "name": "ipython",
    "version": 3
   },
   "file_extension": ".py",
   "mimetype": "text/x-python",
   "name": "python",
   "nbconvert_exporter": "python",
   "pygments_lexer": "ipython3",
   "version": "3.9.7"
  }
 },
 "nbformat": 4,
 "nbformat_minor": 5
}
