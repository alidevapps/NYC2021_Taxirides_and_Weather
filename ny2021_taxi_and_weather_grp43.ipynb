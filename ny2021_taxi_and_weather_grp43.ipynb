{
 "cells": [
  {
   "cell_type": "markdown",
   "id": "aff5d2f3",
   "metadata": {},
   "source": [
    "# Report for data wrangling"
   ]
  },
  {
   "cell_type": "markdown",
   "id": "719d8f17",
   "metadata": {},
   "source": [
    "7 february 2023\\\n",
    "Ali Benchemsi\\\n",
    "Gerard van Konijnenburg"
   ]
  },
  {
   "cell_type": "markdown",
   "id": "8615f367",
   "metadata": {},
   "source": [
    "# Libraries and options"
   ]
  },
  {
   "cell_type": "code",
   "execution_count": 1,
   "id": "ed05c982",
   "metadata": {},
   "outputs": [],
   "source": [
    "import numpy as np\n",
    "import pandas as pd\n",
    "from sodapy import Socrata\n",
    "from configparser import ConfigParser\n",
    "pd.options.display.max_rows = 20\n",
    "np.set_printoptions(precision = 4, suppress = True)"
   ]
  },
  {
   "cell_type": "markdown",
   "id": "0b044e98",
   "metadata": {},
   "source": [
    "# Data loading & wrangling"
   ]
  },
  {
   "cell_type": "markdown",
   "id": "4eebed3a",
   "metadata": {},
   "source": [
    "Idee Gerard zaterdag 21-1\n",
    "\n",
    "We hebben een heleboel data van taxiritten per rit, maar weerdata per dag voor ruim 100 weerstations. Ik stel voor om taxiritten te aggregeren tot 1 record per dag, zone van vertrek en zone van aankomst. Dit kunnen we dan tegen weerdata aanhouden en kijken of er een relatie in zit.\n",
    "\n",
    "De weerdata heeft veel gegevens over het weer, dus daar moeten we ook wat zinnigs over vinden. Ik ben al met de taxiritten aan het stoeien, wil jij je eerst richten op de weerdata?"
   ]
  },
  {
   "cell_type": "markdown",
   "id": "c2478cef",
   "metadata": {},
   "source": [
    "## Yellow cab data"
   ]
  },
  {
   "cell_type": "code",
   "execution_count": 2,
   "id": "6f6f5090",
   "metadata": {},
   "outputs": [],
   "source": [
    "#Read app token from config file\n",
    "parser = ConfigParser()\n",
    "parser.read('configuration.txt')\n",
    "app_token = parser.get('ny_opendata', 'app_token')"
   ]
  },
  {
   "cell_type": "code",
   "execution_count": 3,
   "id": "87cf2bd9",
   "metadata": {},
   "outputs": [
    {
     "name": "stdout",
     "output_type": "stream",
     "text": [
      "Loading data for taxi rides\n",
      "                                                                                \n",
      "Taxidata loaded in 205 seconds\n"
     ]
    }
   ],
   "source": [
    "#Load taxirides data\n",
    "print('Loading data for taxi rides')\n",
    "start = pd.Timestamp.now()\n",
    "      \n",
    "#Dataset constants\n",
    "client = Socrata(\"data.cityofnewyork.us\", app_token)\n",
    "client.timeout = 30 #increase timeout value to 30 seconds\n",
    "dataset = \"m6nq-qud6\" #2021 Yellow Taxi Trip Data\n",
    "year_dataset = 2021\n",
    "\n",
    "#Get departure zones\n",
    "print('Loading departure zones', end = '\\r')\n",
    "query = '''\n",
    "    select\n",
    "        distinct pulocationid as zone_from\n",
    "    order by\n",
    "        zone_from\n",
    "    '''\n",
    "result = client.get(dataset, query = query)\n",
    "zones = pd.DataFrame(result).squeeze()\n",
    "num_zones = len(zones.index)\n",
    "limit = str(num_zones * 366)\n",
    "\n",
    "#Function that retrieves the data for one departure zone\n",
    "def get_zonedata(zone_from):\n",
    "    query = '''\n",
    "    select\n",
    "        date_trunc_ymd(tpep_pickup_datetime) as pickup_date,\n",
    "        count(zone_from) as trips,\n",
    "        avg(passenger_count) as avg_passengers,\n",
    "        avg(trip_distance) as avg_distance,\n",
    "        avg(trip_distance * passenger_count) / avg_passengers as avg_passengerdistance,\n",
    "        pulocationid as zone_from,\n",
    "        dolocationid as zone_to\n",
    "    where\n",
    "        zone_from = ''' + str(zone_from) + '''\n",
    "        and passenger_count IS NOT NULL\n",
    "        and passenger_count > 0\n",
    "        and trip_distance > 0\n",
    "    group by\n",
    "        pickup_date,\n",
    "        zone_from,\n",
    "        zone_to\n",
    "    limit ''' + limit\n",
    "    \n",
    "    result = client.get(dataset, query = query)\n",
    "    return(pd.DataFrame(result))\n",
    "\n",
    "#initialize dataframe with data\n",
    "print('Loading data for departure zone 1/', str(num_zones), end = \"\\r\")\n",
    "df_taxirides = get_zonedata(zones[0])\n",
    "\n",
    "#add data for other zones\n",
    "i = 1\n",
    "          \n",
    "while i < (num_zones - 1):\n",
    "    i += 1\n",
    "    print('Loading data for departure zone', str(i+1), '/', str(num_zones), end = \"\\r\")\n",
    "    df_zone = get_zonedata(zones[i])\n",
    "    df_taxirides = df_taxirides.append(df_zone, ignore_index = True)\n",
    "\n",
    "end = pd.Timestamp.now()\n",
    "duration = end - start\n",
    "print(' '*80)\n",
    "print('Taxidata loaded in ' + str(duration.seconds) + ' seconds')"
   ]
  },
  {
   "cell_type": "code",
   "execution_count": 4,
   "id": "fbab1602",
   "metadata": {},
   "outputs": [],
   "source": [
    "#write result to csv\n",
    "df_taxirides.to_csv('data\\taxirides.csv', index = False)"
   ]
  },
  {
   "cell_type": "code",
   "execution_count": 5,
   "id": "cc8fb67a",
   "metadata": {},
   "outputs": [],
   "source": [
    "#Taxirides data wrangling\n",
    "\n",
    "#Te implementeren\n",
    "#colommen naar juiste datatype, alles staat in string"
   ]
  },
  {
   "cell_type": "markdown",
   "id": "c718ef2e",
   "metadata": {},
   "source": [
    "## Taxi zones"
   ]
  },
  {
   "cell_type": "code",
   "execution_count": 6,
   "id": "7f4b5d9d",
   "metadata": {},
   "outputs": [],
   "source": [
    "#Load taxizone data\n",
    "\n",
    "#Te implementeren\n",
    "#bron: https://data.cityofnewyork.us/Transportation/NYC-Taxi-Zones/d3c5-ddgc\n",
    "#download data in een geschikt formaat voor data wrangling hieronder\n",
    "#uitzoeken of er iets is met longitude, latitude data er al in\n",
    "#data lezen"
   ]
  },
  {
   "cell_type": "code",
   "execution_count": 7,
   "id": "c1acbf9a",
   "metadata": {},
   "outputs": [],
   "source": [
    "#Taxizone data wrangling\n",
    "\n",
    "#Te implementeren\n",
    "#bereken latitude and longitude voor elke zone zodat we in een volgende stap afstand tot de weerstations kunnen bepalen"
   ]
  },
  {
   "cell_type": "markdown",
   "id": "fb6b00e7",
   "metadata": {},
   "source": [
    "## Weather data"
   ]
  },
  {
   "cell_type": "code",
   "execution_count": 8,
   "id": "098dbab9",
   "metadata": {},
   "outputs": [
    {
     "name": "stderr",
     "output_type": "stream",
     "text": [
      "C:\\ProgramData\\Anaconda3\\lib\\site-packages\\IPython\\core\\interactiveshell.py:3444: DtypeWarning: Columns (29,55) have mixed types.Specify dtype option on import or set low_memory=False.\n",
      "  exec(code_obj, self.user_global_ns, self.user_ns)\n"
     ]
    }
   ],
   "source": [
    "#Load weather data\n",
    "\n",
    "#Te implementeren\n",
    "#lees weerdata (zie in overleaf map 'data')\n",
    "#implementatie geeft nu een waarschuwing voor mixed datatupe in colom 29 en 55, uitzoeken hoe dit te ondervangen\n",
    "\n",
    "#Implemenatie\n",
    "df_weather = pd.read_csv('data\\weatherdata.csv')"
   ]
  },
  {
   "cell_type": "code",
   "execution_count": 9,
   "id": "e568ed61",
   "metadata": {},
   "outputs": [],
   "source": [
    "#Weather data wrangling\n",
    "\n",
    "#Te implementeren\n",
    "#geen idee, nog niet naar gekeken"
   ]
  },
  {
   "cell_type": "code",
   "execution_count": null,
   "id": "782cfeb3",
   "metadata": {},
   "outputs": [],
   "source": []
  }
 ],
 "metadata": {
  "kernelspec": {
   "display_name": "Python 3 (ipykernel)",
   "language": "python",
   "name": "python3"
  },
  "language_info": {
   "codemirror_mode": {
    "name": "ipython",
    "version": 3
   },
   "file_extension": ".py",
   "mimetype": "text/x-python",
   "name": "python",
   "nbconvert_exporter": "python",
   "pygments_lexer": "ipython3",
   "version": "3.9.7"
  }
 },
 "nbformat": 4,
 "nbformat_minor": 5
}
